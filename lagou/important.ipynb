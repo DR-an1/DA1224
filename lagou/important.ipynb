{
 "cells": [
  {
   "cell_type": "code",
   "execution_count": 45,
   "metadata": {},
   "outputs": [],
   "source": [
    "#数据清洗和规整\n",
    "import os\n",
    "import pandas as pd\n",
    "from pyecharts import TreeMap,Bar\n",
    "os.chdir('C:/爬虫/拉勾网')\n",
    "'''\n",
    "data=pd.read_excel('C:/爬虫/拉勾网/数据分析岗位.xlsx')\n",
    "new=data['Education'].str.split('/',expand=True)#分割数据\n",
    "data[['经验','学历']]=new\n",
    "data.to_excel('数据分析岗位new.xlsx')\n",
    "\n",
    "'''\n",
    "data=pd.read_excel('C:/爬虫/拉勾网/数据分析岗位new.xlsx')\n",
    "data[['low','high']]=data['Salary'].str.split('-',expand=True)#分割数据\n",
    "data['low']=data.low.str.extract('(\\d+)')\n",
    "data['high']=data.high.str.extract('(\\d+)')\n",
    "data['high']=data['high'].astype('float')\n",
    "data['low']=data['low'].astype('float')\n",
    "data['aSalary']=(data['high']+data['low'])/2\n",
    "data['aSalary']=data['aSalary']*1000\n",
    "data.to_excel('数据分析岗位final.xlsx')"
   ]
  },
  {
   "cell_type": "code",
   "execution_count": null,
   "metadata": {},
   "outputs": [],
   "source": []
  }
 ],
 "metadata": {
  "kernelspec": {
   "display_name": "Python 3",
   "language": "python",
   "name": "python3"
  },
  "language_info": {
   "codemirror_mode": {
    "name": "ipython",
    "version": 3
   },
   "file_extension": ".py",
   "mimetype": "text/x-python",
   "name": "python",
   "nbconvert_exporter": "python",
   "pygments_lexer": "ipython3",
   "version": "3.6.4"
  }
 },
 "nbformat": 4,
 "nbformat_minor": 2
}
