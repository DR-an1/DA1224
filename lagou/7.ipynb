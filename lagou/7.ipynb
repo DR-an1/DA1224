{
 "cells": [
  {
   "cell_type": "code",
   "execution_count": 3,
   "metadata": {},
   "outputs": [
    {
     "name": "stderr",
     "output_type": "stream",
     "text": [
      "Building prefix dict from the default dictionary ...\n",
      "DEBUG:jieba:Building prefix dict from the default dictionary ...\n",
      "Dumping model to file cache C:\\Users\\TTT\\AppData\\Local\\Temp\\jieba.cache\n",
      "DEBUG:jieba:Dumping model to file cache C:\\Users\\TTT\\AppData\\Local\\Temp\\jieba.cache\n",
      "Loading model cost 0.999 seconds.\n",
      "DEBUG:jieba:Loading model cost 0.999 seconds.\n",
      "Prefix dict has been built succesfully.\n",
      "DEBUG:jieba:Prefix dict has been built succesfully.\n",
      "c:\\python36\\install\\lib\\site-packages\\ipykernel_launcher.py:20: DeprecationWarning: `imread` is deprecated!\n",
      "`imread` is deprecated in SciPy 1.0.0, and will be removed in 1.2.0.\n",
      "Use ``imageio.imread`` instead.\n"
     ]
    },
    {
     "data": {
      "text/plain": [
       "<Figure size 640x480 with 1 Axes>"
      ]
     },
     "metadata": {},
     "output_type": "display_data"
    }
   ],
   "source": [
    "#词云\n",
    "import os\n",
    "import pandas as pd\n",
    "from pyecharts import Bar,Boxplot\n",
    "import jieba\n",
    "from scipy.misc import imread  # 这是一个处理图像的函数\n",
    "from wordcloud import WordCloud, ImageColorGenerator\n",
    "import matplotlib.pyplot as plt\n",
    "from collections import Counter\n",
    "os.chdir('C:/爬虫/拉勾网')\n",
    "\n",
    "data=pd.read_excel('C:/爬虫/拉勾网/数据分析岗位finals.xlsx')\n",
    "data['Welfare']\n",
    "data_str = ' '.join(data['Welfare'])\n",
    "words_list = []\n",
    "word_generator = jieba.cut_for_search(data_str)#搜索引擎模式\n",
    "for word in word_generator:\n",
    "    words_list.append(word)\n",
    "words_list = [k for k in words_list if len(k) > 1]\n",
    "back_color = imread('C:/Users/TTT/Desktop/7/w.jpg')  # 解析该图片\n",
    "wc = WordCloud(background_color='white',  # 背景颜色\n",
    "               max_words=200,  # 最大词数\n",
    "               mask=back_color,  # 以该参数值作图绘制词云，这个参数不为空时，width和height会被忽略\n",
    "               max_font_size=300,  # 显示字体的最大值\n",
    "               font_path=\"C:/Windows/Fonts/STFANGSO.ttf\",  # 解决显示口字型乱码问题，可进入C:/Windows/Fonts/目录更换字体\n",
    "               random_state=42,  # 为每个词返回一个PIL颜色\n",
    "               )\n",
    "data_count = Counter(words_list)#字典的子类，给hashtable类对象计数\n",
    "wc.generate_from_frequencies(data_count)#根据词出现的频率生成词云，词的字体大小表现了其频率大小。\n",
    "# 基于彩色图像生成相应彩色\n",
    "image_colors = ImageColorGenerator(back_color)\n",
    "# 绘制结果\n",
    "plt.figure()\n",
    "plt.imshow(wc.recolor(color_func=image_colors))\n",
    "plt.axis('off')\n",
    "plt.savefig('1.png', dpi=400)\n",
    "plt.show()"
   ]
  },
  {
   "cell_type": "code",
   "execution_count": null,
   "metadata": {},
   "outputs": [],
   "source": []
  }
 ],
 "metadata": {
  "kernelspec": {
   "display_name": "Python 3",
   "language": "python",
   "name": "python3"
  },
  "language_info": {
   "codemirror_mode": {
    "name": "ipython",
    "version": 3
   },
   "file_extension": ".py",
   "mimetype": "text/x-python",
   "name": "python",
   "nbconvert_exporter": "python",
   "pygments_lexer": "ipython3",
   "version": "3.6.4"
  }
 },
 "nbformat": 4,
 "nbformat_minor": 2
}
