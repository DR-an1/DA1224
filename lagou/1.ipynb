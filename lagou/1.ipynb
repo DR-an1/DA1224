{
 "cells": [
  {
   "cell_type": "code",
   "execution_count": 5,
   "metadata": {},
   "outputs": [
    {
     "data": {
      "text/plain": [
       "0"
      ]
     },
     "execution_count": 5,
     "metadata": {},
     "output_type": "execute_result"
    }
   ],
   "source": [
    "#箱型图(工资与是否大公司的关系)\n",
    "import os\n",
    "import pandas as pd\n",
    "from pyecharts import Bar,Boxplot\n",
    "os.chdir('C:/爬虫/拉勾网')\n",
    "\n",
    "data=pd.read_excel('C:/爬虫/拉勾网/数据分析岗位finals.xlsx')\n",
    "grouped=data.groupby(['Type'])\n",
    "grouped_pct=grouped['aSalary']\n",
    "aprice=grouped_pct.agg(['mean','count'])\n",
    "aprice\n",
    "y1=data['aSalary'][data['Type']=='金融 ']\n",
    "y1.count()\n",
    "y1=data['aSalary'][data['Type']=='移动互联网']\n",
    "y1.count()"
   ]
  },
  {
   "cell_type": "code",
   "execution_count": null,
   "metadata": {},
   "outputs": [],
   "source": []
  }
 ],
 "metadata": {
  "kernelspec": {
   "display_name": "Python 3",
   "language": "python",
   "name": "python3"
  },
  "language_info": {
   "codemirror_mode": {
    "name": "ipython",
    "version": 3
   },
   "file_extension": ".py",
   "mimetype": "text/x-python",
   "name": "python",
   "nbconvert_exporter": "python",
   "pygments_lexer": "ipython3",
   "version": "3.6.4"
  }
 },
 "nbformat": 4,
 "nbformat_minor": 2
}
