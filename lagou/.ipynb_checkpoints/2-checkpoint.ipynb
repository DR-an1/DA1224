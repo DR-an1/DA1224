{
 "cells": [
  {
   "cell_type": "code",
   "execution_count": 5,
   "metadata": {},
   "outputs": [
    {
     "ename": "SyntaxError",
     "evalue": "invalid syntax (<ipython-input-5-a727bcd6c818>, line 12)",
     "output_type": "error",
     "traceback": [
      "\u001b[1;36m  File \u001b[1;32m\"<ipython-input-5-a727bcd6c818>\"\u001b[1;36m, line \u001b[1;32m12\u001b[0m\n\u001b[1;33m    attr = [\"光明新区\", \"南山区\", \"宝安区\", \"盐田区\",\"福田区\", \"罗湖区\", \"龙华新区\",, \"龙岗区\"]\u001b[0m\n\u001b[1;37m                                                             ^\u001b[0m\n\u001b[1;31mSyntaxError\u001b[0m\u001b[1;31m:\u001b[0m invalid syntax\n"
     ]
    }
   ],
   "source": [
    "import os\n",
    "import pandas as pd\n",
    "from pyecharts import Bar\n",
    "os.chdir('C:/爬虫/拉勾网')\n",
    "\n",
    "data=pd.read_excel('C:/爬虫/拉勾网/数据分析岗位final.xlsx')\n",
    "grouped=data.groupby(['Area'])\n",
    "grouped_pct=grouped['aSalary']\n",
    "aprice=grouped_pct.agg(['mean','count'])\n",
    "aprice\n",
    "aprice['mean']=round(aprice['mean'],0)\n",
    "attr = [\"光明新区\", \"南山区\", \"宝安区\", \"盐田区\",\"福田区\", \"罗湖区\", \"龙华新区\",, \"龙岗区\"]\n",
    "v1 = aprice['mean']\n",
    "bar = Bar(\"\")\n",
    "bar.add(\"平均工资\", attr, v1, is_stack=True,is_label_show=True)\n",
    "bar.render()\n",
    "bar\n",
    "attr = [\"光明新区\", \"南山区\", \"宝安区\", \"盐田区\",\"福田区\", \"罗湖区\", \"龙华新区\",, \"龙岗区\"]\n",
    "v1 = aprice['count']\n",
    "bar = Bar(\"\")\n",
    "bar.add(\"岗位数量\", attr, v1, is_stack=True,is_label_show=True)\n",
    "bar.render()\n",
    "bar"
   ]
  },
  {
   "cell_type": "code",
   "execution_count": null,
   "metadata": {},
   "outputs": [],
   "source": []
  }
 ],
 "metadata": {
  "kernelspec": {
   "display_name": "Python 3",
   "language": "python",
   "name": "python3"
  },
  "language_info": {
   "codemirror_mode": {
    "name": "ipython",
    "version": 3
   },
   "file_extension": ".py",
   "mimetype": "text/x-python",
   "name": "python",
   "nbconvert_exporter": "python",
   "pygments_lexer": "ipython3",
   "version": "3.6.4"
  }
 },
 "nbformat": 4,
 "nbformat_minor": 2
}
