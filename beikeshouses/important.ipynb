{
 "cells": [
  {
   "cell_type": "code",
   "execution_count": 16,
   "metadata": {},
   "outputs": [],
   "source": [
    "import os\n",
    "import pandas as pd\n",
    "from pyecharts import TreeMap,Bar\n",
    "os.chdir('C:/爬虫/深圳租房')\n",
    "\n",
    "'''\n",
    "data=pd.read_excel('C:/爬虫/拉勾网/php岗位.xlsx')\n",
    "data[['low','high']]=data['Salary'].str.split('-',expand=True)#分割数据\n",
    "data['low']=data.low.str.extract('(\\d+)')\n",
    "data['high']=data.high.str.extract('(\\d+)')\n",
    "data['high']=data['high'].astype('float')\n",
    "data['low']=data['low'].astype('float')\n",
    "data['aSalary']=(data['high']+data['low'])/2\n",
    "data['aSalary']=data['aSalary']*1000\n",
    "data.to_excel('php岗位.xlsx')\n",
    "'''\n",
    "data=pd.read_excel('C:/爬虫/深圳租房/深圳合租房信息.xlsx')\n",
    "new=data['房源'].str.split(' ',expand=True)#分割数据\n",
    "\n",
    "\n",
    "\n",
    "new.to_excel('new.xlsx')\n"
   ]
  },
  {
   "cell_type": "code",
   "execution_count": null,
   "metadata": {},
   "outputs": [],
   "source": []
  }
 ],
 "metadata": {
  "kernelspec": {
   "display_name": "Python 3",
   "language": "python",
   "name": "python3"
  },
  "language_info": {
   "codemirror_mode": {
    "name": "ipython",
    "version": 3
   },
   "file_extension": ".py",
   "mimetype": "text/x-python",
   "name": "python",
   "nbconvert_exporter": "python",
   "pygments_lexer": "ipython3",
   "version": "3.6.4"
  }
 },
 "nbformat": 4,
 "nbformat_minor": 2
}
