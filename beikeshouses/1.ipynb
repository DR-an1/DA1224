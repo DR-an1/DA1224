{
 "cells": [
  {
   "cell_type": "code",
   "execution_count": 32,
   "metadata": {},
   "outputs": [
    {
     "data": {
      "text/plain": [
       "Name         595\n",
       "Company      595\n",
       "Salary       595\n",
       "Education    595\n",
       "Size         595\n",
       "Welfare      595\n",
       "Area         595\n",
       "aSalary      595\n",
       "dtype: int64"
      ]
     },
     "execution_count": 32,
     "metadata": {},
     "output_type": "execute_result"
    }
   ],
   "source": [
    "import os\n",
    "import pandas as pd\n",
    "from pyecharts import TreeMap,Bar\n",
    "os.chdir('C:/爬虫/拉勾网')\n",
    "\n",
    "\n",
    "'''\n",
    "data=pd.read_excel('C:/爬虫/拉勾网/Python岗位.xlsx')\n",
    "grouped=data.groupby(['Area'])\n",
    "grouped_pct=grouped['aSalary']\n",
    "aprice=grouped_pct.agg(['mean','count'])\n",
    "aprice['mean']=round(aprice['mean'],0)\n",
    "aprice\n",
    "\n",
    "data=pd.read_excel('C:/爬虫/拉勾网/Java岗位.xlsx')\n",
    "grouped=data.groupby(['Area'])\n",
    "grouped_pct=grouped['aSalary']\n",
    "aprice=grouped_pct.agg(['mean','count'])\n",
    "aprice['mean']=round(aprice['mean'],0)\n",
    "aprice\n",
    "\n",
    "data=pd.read_excel('C:/爬虫/拉勾网/C++岗位.xlsx')\n",
    "grouped=data.groupby(['Area'])\n",
    "grouped_pct=grouped['aSalary']\n",
    "aprice=grouped_pct.agg(['mean','count'])\n",
    "aprice['mean']=round(aprice['mean'],0)\n",
    "aprice\n",
    "\n",
    "data=pd.read_excel('C:/爬虫/拉勾网/C岗位.xlsx')\n",
    "grouped=data.groupby(['Area'])\n",
    "grouped_pct=grouped['aSalary']\n",
    "aprice=grouped_pct.agg(['mean','count'])\n",
    "aprice['mean']=round(aprice['mean'],0)\n",
    "aprice\n",
    "\n",
    "\n",
    "\n",
    "data=pd.read_excel('C:/爬虫/拉勾网/php岗位.xlsx')\n",
    "grouped=data.groupby(['Area'])\n",
    "grouped_pct=grouped['aSalary']\n",
    "aprice=grouped_pct.agg(['mean','count'])\n",
    "aprice['mean']=round(aprice['mean'],0)\n",
    "aprice\n",
    "\n",
    "'''\n",
    "data=pd.read_excel('C:/爬虫/拉勾网/.net岗位.xlsx')\n",
    "grouped=data.groupby(['Area'])\n",
    "grouped_pct=grouped['aSalary']\n",
    "aprice=grouped_pct.agg(['mean','count'])\n",
    "aprice['mean']=round(aprice['mean'],0)\n",
    "aprice\n",
    "\n",
    "price=round(data['aSalary'].mean(),0)\n",
    "price\n"
   ]
  },
  {
   "cell_type": "code",
   "execution_count": null,
   "metadata": {},
   "outputs": [],
   "source": []
  }
 ],
 "metadata": {
  "kernelspec": {
   "display_name": "Python 3",
   "language": "python",
   "name": "python3"
  },
  "language_info": {
   "codemirror_mode": {
    "name": "ipython",
    "version": 3
   },
   "file_extension": ".py",
   "mimetype": "text/x-python",
   "name": "python",
   "nbconvert_exporter": "python",
   "pygments_lexer": "ipython3",
   "version": "3.6.4"
  }
 },
 "nbformat": 4,
 "nbformat_minor": 2
}
