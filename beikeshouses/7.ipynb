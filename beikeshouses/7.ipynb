{
 "cells": [
  {
   "cell_type": "code",
   "execution_count": 33,
   "metadata": {},
   "outputs": [
    {
     "data": {
      "text/plain": [
       "2378.5"
      ]
     },
     "execution_count": 33,
     "metadata": {},
     "output_type": "execute_result"
    }
   ],
   "source": [
    "#合租房\n",
    "import os\n",
    "import pandas as pd\n",
    "from pyecharts import Bar,Boxplot\n",
    "os.chdir('C:/爬虫/深圳租房')\n",
    "\n",
    "data=pd.read_excel('C:/爬虫/深圳租房/深圳合租房信息.xlsx')\n",
    "\n",
    "'''\n",
    "grouped=data.groupby(['地区'])\n",
    "grouped_pct=grouped['价格']\n",
    "aprice=grouped_pct.agg(['mean','count'])\n",
    "aprice\n",
    "'''\n",
    "\n",
    "\n",
    "'''\n",
    "\n",
    "nanshan=data[data.地区=='南山区']\n",
    "nanshan['价格'][nanshan.面积2<10].mean()\n",
    "nanshan['价格'][nanshan.面积2==10].mean()\n",
    "nanshan['价格'][nanshan.面积2==15].mean()\n",
    "nanshan['价格'][nanshan.面积2==20].mean()\n",
    "nanshan['价格'][nanshan.面积2>20].mean()\n",
    "\n",
    "nanshan=data[data.地区=='福田区']\n",
    "nanshan['价格'][nanshan.面积2<10].mean()\n",
    "nanshan['价格'][nanshan.面积2==10].mean()\n",
    "nanshan['价格'][nanshan.面积2==15].mean()\n",
    "nanshan['价格'][nanshan.面积2==20].mean()\n",
    "nanshan['价格'][nanshan.面积2>20].mean()\n",
    "nanshan['价格'][nanshan.面积2>30].mean()\n",
    "\n",
    "\n",
    "nanshan=data[data.地区=='宝安区']\n",
    "nanshan['价格'][nanshan.面积2<10].mean()\n",
    "nanshan['价格'][nanshan.面积2==10].mean()\n",
    "nanshan['价格'][nanshan.面积2==15].mean()\n",
    "nanshan['价格'][nanshan.面积2==21].mean()\n",
    "nanshan['价格'][nanshan.面积2>25].mean()\n",
    "\n",
    "\n",
    "nanshan=data[data.地区=='罗湖区']\n",
    "nanshan['价格'][nanshan.面积2<10].mean()\n",
    "nanshan['价格'][nanshan.面积2==10].mean()\n",
    "nanshan['价格'][nanshan.面积2==15].mean()\n",
    "nanshan['价格'][nanshan.面积2>20].mean()\n",
    "\n",
    "\n",
    "nanshan=data[data.地区=='龙华区']\n",
    "nanshan['价格'][nanshan.面积2<10].mean()\n",
    "nanshan['价格'][nanshan.面积2==10].mean()\n",
    "\n",
    "nanshan['价格'][nanshan.面积2==15].mean()\n",
    "nanshan['价格'][nanshan.面积2>20].mean()\n",
    "\n",
    "\n",
    "\n",
    "'''\n",
    "\n",
    "nanshan=data[data.地区=='龙岗区']\n",
    "nanshan['价格'][nanshan.面积2<10].mean()\n",
    "nanshan['价格'][nanshan.面积2==10].mean()\n",
    "nanshan['价格'][nanshan.面积2==15].mean()\n",
    "nanshan['价格'][nanshan.面积2>20].mean()\n",
    "\n"
   ]
  },
  {
   "cell_type": "code",
   "execution_count": null,
   "metadata": {},
   "outputs": [],
   "source": []
  },
  {
   "cell_type": "code",
   "execution_count": null,
   "metadata": {},
   "outputs": [],
   "source": []
  }
 ],
 "metadata": {
  "kernelspec": {
   "display_name": "Python 3",
   "language": "python",
   "name": "python3"
  },
  "language_info": {
   "codemirror_mode": {
    "name": "ipython",
    "version": 3
   },
   "file_extension": ".py",
   "mimetype": "text/x-python",
   "name": "python",
   "nbconvert_exporter": "python",
   "pygments_lexer": "ipython3",
   "version": "3.6.4"
  }
 },
 "nbformat": 4,
 "nbformat_minor": 2
}
