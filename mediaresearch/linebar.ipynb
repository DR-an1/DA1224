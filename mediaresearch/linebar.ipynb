{
 "cells": [
  {
   "cell_type": "code",
   "execution_count": null,
   "metadata": {
    "collapsed": true
   },
   "outputs": [],
   "source": [
    "from pyecharts import Map,Bar, Line, Overlap\n",
    "from pyecharts import Page\n",
    "import os\n",
    "\n",
    "\n",
    "\n",
    "\n",
    "os.chdir('C:\\爬虫\\卫视收视率对比')\n",
    "\n",
    "\n",
    "page = Page(\"render1.html\") \n",
    "\n",
    "city1=['山东', '浙江', '湖南', '江苏', '湖北', '贵州', '陕西', '北京', '吉林', '上海', '江西', '重庆', '安徽', '山西', '广西', '河南', '广东', '黑龙江', '天津', '深圳', '福建', '四川', '新疆', '内蒙古', '河北', '甘肃', '辽宁', '宁夏', '云南', '青海', '西藏']\n",
    "rates1=['0.1489', '0.1314', '0.0668', '0.0641', '0.0384', '0.0373', '0.0355', '0.0325', '0.0312', '0.0266', '0.0261', '0.0236', '0.0220', '0.0209', '0.0205', '0.0178', '0.0156', '0.0146', '0.0143', '0.0132', '0.0130', '0.0129', '0.0124', '0.0112', '0.0110', '0.0097', '0.0091', '0.0078', '0.0070', '0.0014', '0.0014']\n",
    "\n",
    "\n",
    "city2=['浙江', '安徽', '江苏', '湖南', '黑龙江', '山东', '四川', '内蒙古', '河南', '辽宁', '福建', '广西', '湖北', '广东', '江西', '河北', '北京', '上海', '重庆', '深圳', '天津', '山西', '新疆', '吉林', '甘肃', '陕西', '贵州', '西藏', '青海', '云南', '宁夏']\n",
    "rates2=['0.6702', '0.4048', '0.3762', '0.2343', '0.1890', '0.1087', '0.0839', '0.0828', '0.0817', '0.0794', '0.0695', '0.0603', '0.0602', '0.0600', '0.0565', '0.0530', '0.0476', '0.0465', '0.0434', '0.0417', '0.0411', '0.0254', '0.0192', '0.0174', '0.0124', '0.0107', '0.0097', '0.0086', '0.0075', '0.0034', '0.0026']\n",
    "\n",
    "city3=['湖南', '山东', '江苏', '江西', '黑龙江', '北京', '安徽', '上海', '浙江', '重庆', '湖北', '贵州', '广西', '陕西', '福建', '河北', '辽宁', '天津', '河南', '广东', '四川', '宁夏', '吉林', '新疆', '深圳', '云南', '内蒙古', '甘肃', '青海', '山西', '西藏']\n",
    "rates3=['1.5324', '0.9631', '0.6806', '0.6462', '0.3571', '0.3368', '0.3194', '0.3026', '0.3001', '0.2229', '0.1756', '0.1708', '0.1660', '0.1544', '0.1252', '0.1221', '0.1176', '0.1073', '0.0942', '0.0774', '0.0767', '0.0746', '0.0632', '0.0555', '0.0536', '0.0530', '0.0490', '0.0430', '0.0399', '0.0357', '0.0199']\n",
    "\n",
    "\n",
    "\n",
    "bar1 = Bar(\"实时收视率折线图08/18 (8：26)\",title_pos=\"left\",width=1800, height=1000)\n",
    "bar1.add(\"城市\", city1, rates1,xaxis_rotate=70)\n",
    "line1 = Line(width=1800, height=1000)\n",
    "line1.add(\"收视率\", city1, rates1, mark_point=[\"max\",\"min\"],xaxis_rotate=30)\n",
    "overlap1 = Overlap()\n",
    "overlap1.add(bar1)\n",
    "overlap1.add(line1)\n",
    "\n",
    "bar2 = Bar(\"实时收视率折线图08/18 (14：26)\",title_pos=\"left\",width=1800, height=1000)\n",
    "bar2.add(\"城市\", city2, rates2,xaxis_rotate=70)\n",
    "line2 = Line(width=1800, height=1000)\n",
    "line2.add(\"收视率\", city2, rates2, mark_point=[\"max\",\"min\"],xaxis_rotate=30)\n",
    "overlap2 = Overlap()\n",
    "overlap2.add(bar2)\n",
    "overlap2.add(line2)\n",
    "\n",
    "bar3 = Bar(\"实时收视率折线图08/18 (20:55)\",title_pos=\"left\",width=1800, height=1000)\n",
    "bar3.add(\"城市\", city3, rates3,xaxis_rotate=70)\n",
    "line3 = Line(width=1800, height=1000)\n",
    "line3.add(\"收视率\", city3, rates3, mark_point=[\"max\",\"min\"],xaxis_rotate=30)\n",
    "overlap3 = Overlap()\n",
    "overlap3.add(bar3)\n",
    "overlap3.add(line3)\n",
    "\n",
    "page.add(overlap1)\n",
    "page.add(overlap2)\n",
    "page.add(overlap3)\n",
    "page.render()\n",
    "page"
   ]
  }
 ],
 "metadata": {
  "kernelspec": {
   "display_name": "Python 2",
   "language": "python",
   "name": "python2"
  },
  "language_info": {
   "codemirror_mode": {
    "name": "ipython",
    "version": 2
   },
   "file_extension": ".py",
   "mimetype": "text/x-python",
   "name": "python",
   "nbconvert_exporter": "python",
   "pygments_lexer": "ipython2",
   "version": "2.7.6"
  }
 },
 "nbformat": 4,
 "nbformat_minor": 0
}
