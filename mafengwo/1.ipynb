{
 "cells": [
  {
   "cell_type": "code",
   "execution_count": null,
   "metadata": {},
   "outputs": [],
   "source": [
    "import pandas as pd\n",
    "from pyecharts import Geo\n",
    "import os\n",
    "\n",
    "os.chdir('C:/爬虫/蚂蜂窝')\n",
    "\n",
    "data=pd.read_excel('C:\\爬虫\\蚂蜂窝\\游记表c.xlsx')\n",
    "attr=data['city']\n",
    "value=data['sum']\n",
    "geo = Geo(\n",
    "    \"全国热门景点热力图\",\n",
    "    title_color=\"#fff\",\n",
    "    title_pos=\"center\",\n",
    "    width=1000,\n",
    "    height=600,\n",
    "    background_color=\"#404a59\",\n",
    ")\n",
    "geo.add_coordinate('青海湖', 117.95, 40.98)\n",
    "geo.add_coordinate('新疆', 85.61, 42.13) \n",
    "geo.add(\n",
    "    \"\",\n",
    "    attr,\n",
    "    value,\n",
    "    visual_range=[0, 10000],\n",
    "    visual_text_color=\"#fff\",\n",
    "    symbol_size=15,\n",
    "    is_visualmap=True,\n",
    ")\n",
    "geo.render()\n",
    "geo"
   ]
  }
 ],
 "metadata": {},
 "nbformat": 4,
 "nbformat_minor": 2
}
